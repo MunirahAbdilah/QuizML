{
  "nbformat": 4,
  "nbformat_minor": 0,
  "metadata": {
    "colab": {
      "provenance": []
    },
    "kernelspec": {
      "name": "python3",
      "display_name": "Python 3"
    },
    "language_info": {
      "name": "python"
    }
  },
  "cells": [
    {
      "cell_type": "code",
      "execution_count": null,
      "metadata": {
        "id": "veFM6aK2duWs"
      },
      "outputs": [],
      "source": [
        "from PIL import Image\n",
        "import numpy as np\n",
        "import pandas as pd\n",
        "import csv\n",
        "import os\n",
        "from skimage.feature import graycomatrix, graycoprops\n",
        "from sklearn.preprocessing import LabelEncoder\n",
        "from sklearn.model_selection import train_test_split\n",
        "from sklearn.preprocessing import StandardScaler\n",
        "from sklearn.metrics import accuracy_score, precision_score, recall_score, f1_score, matthews_corrcoef, cohen_kappa_score\n",
        "from sklearn.svm import SVC"
      ]
    },
    {
      "cell_type": "code",
      "source": [
        "inputDirectory =\"/content/pet_dataset.zip\""
      ],
      "metadata": {
        "id": "kgE8vBp4i-YA"
      },
      "execution_count": null,
      "outputs": []
    },
    {
      "cell_type": "code",
      "source": [
        "with open(\"/content/pet_dataset.zip\", 'a', newline='') as file:\n",
        "    writer = csv.writer(file)\n",
        "    writer.writerow(['Image','red_sum', 'green_sum', 'blue_sum', 'correlation', 'energy', 'contrast', 'homogeneity','label'])"
      ],
      "metadata": {
        "id": "69j5Jlm5jA7R"
      },
      "execution_count": null,
      "outputs": []
    },
    {
      "cell_type": "code",
      "source": [
        "def analyze_image(image_path):\n",
        "    # Load the image\n",
        "    image = Image.open(image_path)\n",
        "    # Convert the image to RGB mode (if it's not already)\n",
        "    image = image.convert(\"RGB\")\n",
        "    # Convert the image to a numpy array\n",
        "    image_array = np.array(image)\n",
        "\n",
        "    # Calculate the sums of colors on each channel\n",
        "    red_sum = np.sum(image_array[:, :, 0])\n",
        "    green_sum = np.sum(image_array[:, :, 1])\n",
        "    blue_sum = np.sum(image_array[:, :, 2])\n",
        "\n",
        "    # Convert the image to grayscale\n",
        "    grayscale_image = image.convert(\"L\")\n",
        "    # Convert the grayscale image to a numpy array\n",
        "    grayscale_array = np.array(grayscale_image)\n",
        "\n",
        "# Calculate the texture properties using greycomatrix and greycoprops\n",
        "    glcm = graycomatrix(grayscale_array, distances=[1], angles=[0], symmetric=True, normed=True)\n",
        "    correlation = graycoprops(glcm, 'correlation')[0, 0]\n",
        "    energy = graycoprops(glcm, 'energy')[0, 0]\n",
        "    contrast = graycoprops(glcm, 'contrast')[0, 0]\n",
        "    homogeneity = graycoprops(glcm, 'homogeneity')[0, 0]\n",
        "\n",
        "    # Return the calculated features as a list\n",
        "    features = [image_array, red_sum, green_sum, blue_sum, correlation, energy, contrast, homogeneity]\n",
        "    return features"
      ],
      "metadata": {
        "id": "Oky82sogjDa4"
      },
      "execution_count": null,
      "outputs": []
    },
    {
      "cell_type": "code",
      "source": [
        "for folder in os.listdir(inputDirectory):\n",
        "    print(\"Inside folder {}\".format(folder))\n",
        "    folderPath = os.path.join(inputDirectory, folder)\n",
        "    for img in os.listdir(folderPath):\n",
        "        imgPath = os.path.join(folderPath, img)\n",
        "        features = analyze_image(imgPath)\n",
        "        features.append(folder)\n",
        "        with open(\"/content/pet_dataset.zip\", 'a', newline='') as file:\n",
        "            writer = csv.writer(file)\n",
        "            writer.writerow(features)\n",
        "        print(\"Processed Image: {}\".format(imgPath))"
      ],
      "metadata": {
        "id": "N4cFjFMUjF5J"
      },
      "execution_count": null,
      "outputs": []
    },
    {
      "cell_type": "code",
      "source": [
        "df = pd.read_csv(\"/content/pet_dataset.zip\")"
      ],
      "metadata": {
        "id": "LwUmp89ejHyG"
      },
      "execution_count": null,
      "outputs": []
    },
    {
      "cell_type": "code",
      "source": [
        "df.head()"
      ],
      "metadata": {
        "id": "Zi-yH-FGjJp4"
      },
      "execution_count": null,
      "outputs": []
    },
    {
      "cell_type": "code",
      "source": [
        "df = df.drop(columns = ['Image'])\n"
      ],
      "metadata": {
        "id": "fdQXaP2BjM7E"
      },
      "execution_count": null,
      "outputs": []
    },
    {
      "cell_type": "code",
      "source": [
        "xTrain, xTest, yTrain, yTest = train_test_split(df.drop(columns=['label']), df['label'], train_size=0.8, random_state=42)"
      ],
      "metadata": {
        "id": "ANle5cjFjOdq"
      },
      "execution_count": null,
      "outputs": []
    },
    {
      "cell_type": "code",
      "source": [
        "labelEncoder = LabelEncoder()\n",
        "labelEncoder.fit(yTrain)\n",
        "print(labelEncoder.classes_)\n",
        "yTrain = labelEncoder.transform(yTrain)\n",
        "yTest = labelEncoder.transform(yTest)"
      ],
      "metadata": {
        "id": "juLOABYOjRTI"
      },
      "execution_count": null,
      "outputs": []
    },
    {
      "cell_type": "code",
      "source": [
        "scaler = StandardScaler()\n",
        "scaler.fit(xTrain)\n",
        "xTrain = scaler.transform(xTrain)\n",
        "xTest = scaler.transform(xTest)"
      ],
      "metadata": {
        "id": "XPU-qAgvjTBN"
      },
      "execution_count": null,
      "outputs": []
    },
    {
      "cell_type": "code",
      "source": [
        "with open(\"/content/pet_dataset.zip\"), 'a', newline='') as file:\n",
        "    writer = csv.writer(file)\n",
        "    writer.writerow(['Model','Accuracy','Precision','Senstivity','F1 Score','MCC Score','Kappa Coeff'])"
      ],
      "metadata": {
        "id": "nKpnNpkDjVC_"
      },
      "execution_count": null,
      "outputs": []
    },
    {
      "cell_type": "code",
      "source": [
        "modelSVC = SVC()"
      ],
      "metadata": {
        "id": "17VeJ2Ixjb0L"
      },
      "execution_count": null,
      "outputs": []
    },
    {
      "cell_type": "code",
      "source": [
        "modelSVC.fit(xTrain, yTrain)"
      ],
      "metadata": {
        "id": "SxvcDhUDjeYo"
      },
      "execution_count": null,
      "outputs": []
    }
  ]
}